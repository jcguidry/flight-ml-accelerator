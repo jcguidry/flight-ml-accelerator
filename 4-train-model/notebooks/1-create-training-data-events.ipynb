{
 "cells": [
  {
   "cell_type": "code",
   "execution_count": 1,
   "metadata": {},
   "outputs": [],
   "source": [
    "# data_preprocessing.py\n",
    "from datetime import date, datetime, timedelta\n",
    "import polars as pl\n",
    "from deltalake import DeltaTable\n",
    "import json\n",
    "from gcsfs import GCSFileSystem\n",
    "import pyarrow\n",
    "\n",
    "# custom imports\n",
    "import sys\n",
    "sys.path.append('..')\n",
    "from src.gcp import GCPClient\n",
    "from src.io import DataLoader, DataWriter\n"
   ]
  },
  {
   "cell_type": "code",
   "execution_count": 2,
   "metadata": {},
   "outputs": [],
   "source": [
    "\n",
    "class TrainingDataPreprocessor():\n",
    "    '''\n",
    "    Preprocesses `flight event data` for training, creates target variable\n",
    "    '''\n",
    "\n",
    "    def __init__(self, df):\n",
    "        self.df = df\n",
    "\n",
    "    def create_target(self, df):\n",
    "        '''\n",
    "        Create target variable, time to landing\n",
    "        '''\n",
    "        landing_times = df.group_by('fa_flight_id').agg(pl.max('actual_in').alias('actual_in_filled'))\n",
    "        df = df.join(landing_times, on='fa_flight_id')\n",
    "        df = df.with_columns((\n",
    "                                (pl.col('actual_in_filled') - pl.col('event_ts')).dt.minutes() \n",
    "                              ).alias('duration_to_arrival_minutes') \n",
    "                             )\n",
    "\n",
    "        df = df.with_columns(pl.col('duration_to_arrival_minutes').alias('target'))\n",
    "\n",
    "        \n",
    "        df = df.sort(['actual_in_filled','crt_ts'])\n",
    "        return df\n",
    "    \n",
    "\n",
    "    def create_target_v2(self, df):\n",
    "        '''\n",
    "        An alternative target variable which represents minutes to next event.\n",
    "        '''\n",
    "        event_sched_order = {\n",
    "            'scheduled_out': 1,\n",
    "            'actual_out': 2,\n",
    "            'actual_off': 3,\n",
    "            'actual_on': 4,\n",
    "            'actual_in': 5\n",
    "        }\n",
    "\n",
    "        df = df.with_columns(\n",
    "            pl.col('event_type').map_dict(event_sched_order, return_dtype=pl.Int8)\n",
    "                .alias('event_seq_number_sched')\n",
    "        )\n",
    "        df = df.with_columns(\n",
    "            pl.col(\"event_ts\").sort_by('event_seq_number_sched').shift(-1).over(\"fa_flight_id\")\n",
    "                .alias(\"next_event_ts\")\n",
    "        )\n",
    "        df = df.with_columns(\n",
    "            (pl.col('next_event_ts') - pl.col('event_ts')).dt.minutes()\n",
    "                .alias('duration_to_next_event_minutes')\n",
    "        )\n",
    "\n",
    "        return df\n",
    "\n",
    "    def remove_incomplete_flights(self, df):\n",
    "        # Remove flights that haven't landed yet\n",
    "        return df.filter( pl.col('actual_in_filled').is_not_null() )\n",
    "\n",
    "    def removed_arrival_events(self, df):\n",
    "        # Arrival events are not useful for training\n",
    "        return df.filter(pl.col('event_type') != 'actual_in')\n",
    "\n",
    "\n",
    "    def process_data(self):\n",
    "        df = self.df\n",
    "        df = self.create_target(df)\n",
    "        df = self.create_target_v2(df)\n",
    "        df = self.remove_incomplete_flights(df)\n",
    "        df = self.removed_arrival_events(df)\n",
    "        return df\n"
   ]
  },
  {
   "cell_type": "code",
   "execution_count": 3,
   "metadata": {},
   "outputs": [],
   "source": [
    "\n",
    "# Set up paths for loading and writing data\n",
    "gcs_path_prefix = 'gs://datalake-flight-dev-1'\n",
    "table_name_in = 'flightsummary-delta-processed-stream'\n",
    "table_name_out = 'flightsummary-delta-processed-training'\n",
    "\n",
    "\n",
    "table_path_in = f'{gcs_path_prefix}/{table_name_in}'\n",
    "table_path_out = f'{gcs_path_prefix}/training/{table_name_out}'\n",
    "table_path_out_local = f'../data/{table_name_out}'\n",
    "\n",
    "client = GCPClient()\n",
    "dl = DataLoader(client=client)\n",
    "\n",
    "# Load data from delta table, last 1000 days of data\n",
    "lookback_params = {\n",
    "    'lookback_days': 1000,\n",
    "    'lookback_date_column': 'crt_ts_date'}\n",
    "\n",
    "dl.load_delta_table(path=table_path_in, lookback_params=lookback_params)\n",
    "df = dl.return_as_polars_df_lazy()\n",
    "\n",
    "# Process data using polars\n",
    "df = TrainingDataPreprocessor(df).process_data()\n"
   ]
  },
  {
   "cell_type": "code",
   "execution_count": 4,
   "metadata": {},
   "outputs": [
    {
     "name": "stdout",
     "output_type": "stream",
     "text": [
      "Writing data to gs://datalake-flight-dev-1/training/flightsummary-delta-processed-training\n"
     ]
    }
   ],
   "source": [
    "\n",
    "# Instantiate DataWriter and write data to multiple locations\n",
    "dw = DataWriter(df)\n",
    "\n",
    "# dw.write_local(path=table_path_out_local, file_type_out='csv')\n",
    "# dw.write_local(path=table_path_out_local, file_type_out='delta')\n",
    "dw.write_gcs(path=table_path_out, client=client, file_type_out='delta')"
   ]
  },
  {
   "cell_type": "markdown",
   "metadata": {},
   "source": [
    "## Scratch"
   ]
  },
  {
   "cell_type": "code",
   "execution_count": 5,
   "metadata": {},
   "outputs": [],
   "source": [
    "# Below: Scratch for further Processing on the, raw (ingested) flight status table, which can be transformed to 'scheduled' flight data"
   ]
  },
  {
   "cell_type": "code",
   "execution_count": 6,
   "metadata": {},
   "outputs": [],
   "source": [
    "# df.groupby('fa_flight_id').agg(\n",
    "#     pl.count('fa_flight_id').alias('transaction_count'),\n",
    "#     pl.n_unique('scheduled_out').alias('n_unique_scheduled_out'),\n",
    "# ).filter(pl.col('n_unique_scheduled_out') > 1)"
   ]
  },
  {
   "cell_type": "code",
   "execution_count": 7,
   "metadata": {},
   "outputs": [],
   "source": [
    "# df.filter(pl.col('last_scheduled_out_ts').is_null() ).shape"
   ]
  },
  {
   "cell_type": "code",
   "execution_count": 8,
   "metadata": {},
   "outputs": [],
   "source": [
    "# df.filter(\n",
    "#     (pl.col('last_scheduled_out_ts').cast(str) != pl.col('scheduled_out').cast(str).str.slice(0,19)) \n",
    "#     | pl.col('last_scheduled_out_ts').is_null() \n",
    "#     & (pl.col('crt_ts').str.strptime(pl.Datetime, \"%Y-%m-%d %H:%M:%S\") < pl.col('scheduled_out')) \n",
    "#     )"
   ]
  },
  {
   "cell_type": "code",
   "execution_count": 9,
   "metadata": {},
   "outputs": [],
   "source": [
    "# to create training data for the schedule-based model, we need to capture snapshots of each scheduled flight at a given time before the scheduled departure time.\n",
    "\n",
    "# to do so, we can use the following logic:\n",
    "# 1. crt_ts < scheduled_out\n",
    "# 2. scheduled_out != last_scheduled_out_ts"
   ]
  },
  {
   "cell_type": "code",
   "execution_count": 10,
   "metadata": {},
   "outputs": [],
   "source": [
    "        # This logic only works on 'scheduled' flight event table where all event times are retroactively added. \n",
    "        # Primary flight event data is not suitable for this logic, as it is meant to be used in real-time\n",
    "\n",
    "        # df = (\n",
    "        # df.with_columns(\n",
    "        #     pl.when(pl.col('event_type') == 'scheduled_out')\n",
    "        #     .then(pl.col('actual_out') - pl.col('scheduled_out'))\n",
    "\n",
    "        #     .when(pl.col('event_type') == 'actual_out')\n",
    "        #     .then(pl.col('actual_off') - pl.col('actual_out'))\n",
    "\n",
    "        #     .when(pl.col('event_type') == 'actual_off')\n",
    "        #     .then(pl.col('actual_on') - pl.col('actual_off'))\n",
    "\n",
    "        #     .when(pl.col('event_type') == 'actual_on')\n",
    "        #     .then(pl.col('actual_in') - pl.col('actual_on'))\n",
    "\n",
    "        #     .otherwise(pl.lit(None))\n",
    "        #     .dt.minutes()\n",
    "        #     .alias('duration_to_next_event_minutes')\n",
    "        #     )\n",
    "        # )"
   ]
  }
 ],
 "metadata": {
  "kernelspec": {
   "display_name": "Python 3 (ipykernel)",
   "language": "python",
   "name": "python3"
  },
  "language_info": {
   "codemirror_mode": {
    "name": "ipython",
    "version": 3
   },
   "file_extension": ".py",
   "mimetype": "text/x-python",
   "name": "python",
   "nbconvert_exporter": "python",
   "pygments_lexer": "ipython3",
   "version": "3.10.13"
  },
  "orig_nbformat": 4
 },
 "nbformat": 4,
 "nbformat_minor": 2
}
