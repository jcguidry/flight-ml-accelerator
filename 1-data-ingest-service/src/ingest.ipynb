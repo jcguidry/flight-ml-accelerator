{
 "cells": [
  {
   "cell_type": "code",
   "execution_count": 1,
   "metadata": {},
   "outputs": [],
   "source": [
    "# # For local testing ONLY\n",
    "# # Comment out before committing\n",
    "# import sys\n",
    "# try:\n",
    "#     sys.path.remove('')\n",
    "#     sys.path.append('../')\n",
    "# except: pass"
   ]
  },
  {
   "cell_type": "code",
   "execution_count": 2,
   "metadata": {},
   "outputs": [],
   "source": [
    "# Base Libraries\n",
    "import os\n",
    "import json\n",
    "import logging\n",
    "import requests\n",
    "from dotenv import load_dotenv\n",
    "from datetime import datetime as dt\n",
    "from datetime import timedelta \n",
    "import pandas as pd\n",
    "\n",
    "from google.oauth2 import service_account\n",
    "from google.cloud import storage\n",
    "from google.cloud import firestore\n",
    "\n",
    "pd.set_option('display.max_columns', None)\n",
    "pd.set_option('display.max_rows', 50)\n",
    "logging.basicConfig(level=logging.INFO)"
   ]
  },
  {
   "cell_type": "code",
   "execution_count": 3,
   "metadata": {},
   "outputs": [],
   "source": [
    "from src.auth.gcp import GCPClient\n",
    "from src.auth.FlightAware import FlightAwareAPI\n",
    "\n",
    "from src.io.read import get_flight_data\n",
    "from src.io.firestore import get_last_run_timestamp, update_last_run_timestamp, get_scheduled_out_prev_ts, update_scheduled_out\n",
    "from src.process.transform import rename_columns_remove_periods, create_crt_ts_cols, datatype_cleanup\n",
    "from src.io.write import write_to_gcs"
   ]
  },
  {
   "cell_type": "code",
   "execution_count": 4,
   "metadata": {},
   "outputs": [],
   "source": [
    "def main(identifier):\n",
    "\n",
    "    # ------ PARAMETERS ------ \n",
    "    lookback_hours = 7*24 # how many hours back to query, based on the flight's actual departure\n",
    "    lookfoward_hours = 2*24 # how many hours forward to query, based on the flight's scheduled departure\n",
    "    bucket_name = 'datalake-flight-dev-1'\n",
    "    blob_name = 'flightsummary-ingest-raw-json'\n",
    "    project_id = 'aia-ds-accelerator-flight-1'\n",
    "\n",
    "\n",
    "    # ------ INITIALIZE SERVICE CLIENTS ------\n",
    "    gcp_client = GCPClient()\n",
    "    gcp_credentials = gcp_client.credentials    \n",
    "    firestore_client = firestore.Client(credentials=gcp_credentials, project=project_id)\n",
    "    storage_client = storage.Client(credentials=gcp_credentials, project=project_id)\n",
    "    # pubsub_client = pubsub_v1.PublisherClient(credentials= gcp_credentials)\n",
    "    FA_client = FlightAwareAPI()\n",
    "\n",
    "    # ------ DERIVED TIMESTAMPS ------      \n",
    "    current_time_raw = dt.utcnow()\n",
    "\n",
    "    current_time = current_time_raw.strftime('%Y-%m-%dT%H:%M:%SZ')\n",
    "    query_start = (current_time_raw - timedelta(hours=lookback_hours)).strftime('%Y-%m-%dT%H:%M:%SZ')\n",
    "    query_end = (current_time_raw + timedelta(hours=lookfoward_hours)).strftime('%Y-%m-%dT%H:%M:%SZ')\n",
    "\n",
    "    # ------ READ ------\n",
    "    df = get_flight_data(FA_client, identifier, query_start, query_end)\n",
    "\n",
    "    # --- PROCESS ---\n",
    "    # Rename columns with '.' in the name.\n",
    "    df = rename_columns_remove_periods(df)\n",
    "    # Convert certain columns to string to avoid errors\n",
    "    df = datatype_cleanup(df)\n",
    "    # Add current run timestamp to the dataframe\n",
    "    df = create_crt_ts_cols(df, current_time = current_time)\n",
    "\n",
    "\n",
    "    # ------ STATE MANAGEMENT ------\n",
    "    # --- Obtain and last run timestamp(s) to the dataframe\n",
    "    last_run_ts = get_last_run_timestamp(identifier, firestore_client)\n",
    "    df['last_run_ts'] = last_run_ts\n",
    "    print(f'last query run timestamp: {last_run_ts}')\n",
    "\n",
    "    # --- Obtain latest 'scheduled out' timestamp for each flight ID\n",
    "    scheduled_out_dict = df.groupby('fa_flight_id')['scheduled_out'].first().to_dict()\n",
    "    scheduled_out_prev_dict = get_scheduled_out_prev_ts(df['fa_flight_id'].unique(), firestore_client)\n",
    "    df['last_scheduled_out_ts'] = df['fa_flight_id'].map(scheduled_out_prev_dict)\n",
    "\n",
    "\n",
    "    # ------ WRITE ------\n",
    "    try:\n",
    "        write_to_gcs(df, bucket_name, blob_name, storage_client)\n",
    "    except Exception as e:\n",
    "        logging.error(f\"error when writing data: {e}\")\n",
    "\n",
    "\n",
    "    # Update the query last run timestamp in Firestore\n",
    "    update_last_run_timestamp(identifier, current_time, firestore_client)\n",
    "\n",
    "    # Update Firestore with the current 'scheduled_out' values\n",
    "    update_scheduled_out(scheduled_out_dict.keys(), scheduled_out_dict.values(), firestore_client)\n"
   ]
  },
  {
   "cell_type": "code",
   "execution_count": 5,
   "metadata": {},
   "outputs": [
    {
     "name": "stdout",
     "output_type": "stream",
     "text": [
      "last query run timestamp: 2023-12-12 05:19:27+00:00\n"
     ]
    }
   ],
   "source": [
    "# Performing the execution in here prevents main() from being called when the module is imported\n",
    "# and it allows us to run this file directly from the command line\n",
    "\n",
    "if __name__ == \"__main__\":\n",
    "    main(identifier='AA2563')\n",
    "    \n",
    "    # df = main(identifier='AA2563')\n",
    "    # df"
   ]
  }
 ],
 "metadata": {
  "kernelspec": {
   "display_name": "CG_env1",
   "language": "python",
   "name": "python3"
  },
  "language_info": {
   "codemirror_mode": {
    "name": "ipython",
    "version": 3
   },
   "file_extension": ".py",
   "mimetype": "text/x-python",
   "name": "python",
   "nbconvert_exporter": "python",
   "pygments_lexer": "ipython3",
   "version": "3.10.13"
  },
  "orig_nbformat": 4
 },
 "nbformat": 4,
 "nbformat_minor": 2
}
